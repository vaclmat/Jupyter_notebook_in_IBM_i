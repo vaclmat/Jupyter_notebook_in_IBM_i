{
 "cells": [
  {
   "cell_type": "code",
   "execution_count": 2,
   "metadata": {},
   "outputs": [
    {
     "name": "stdout",
     "output_type": "stream",
     "text": [
      "Pixiedust database opened successfully\n"
     ]
    },
    {
     "data": {
      "text/html": [
       "\n",
       "        <div style=\"margin:10px\">\n",
       "            <a href=\"https://github.com/ibm-watson-data-lab/pixiedust\" target=\"_new\">\n",
       "                <img src=\"https://github.com/ibm-watson-data-lab/pixiedust/raw/master/docs/_static/pd_icon32.png\" style=\"float:left;margin-right:10px\"/>\n",
       "            </a>\n",
       "            <span>Pixiedust version 1.1.17</span>\n",
       "        </div>\n",
       "        "
      ],
      "text/plain": [
       "<IPython.core.display.HTML object>"
      ]
     },
     "metadata": {},
     "output_type": "display_data"
    },
    {
     "data": {
      "text/html": [
       "\n",
       "            <div style=\"margin:10px\"> \n",
       "            <a href=\"https://github.com/ibm-cds-labs/pixiedust_node\" target=\"_new\"> \n",
       "            <img src=\"https://github.com/ibm-cds-labs/pixiedust_node/raw/master/docs/_images/pdn_icon32.png\" style=\"float:left;margin-right:10px\"/> \n",
       "            </a> \n",
       "            <span>Pixiedust Node.js</span> \n",
       "            </div> \n"
      ],
      "text/plain": [
       "<IPython.core.display.HTML object>"
      ]
     },
     "metadata": {},
     "output_type": "display_data"
    },
    {
     "name": "stdout",
     "output_type": "stream",
     "text": [
      "pixiedust_node 0.2.5 started. Cells starting '%%node' may contain Node.js code.\n"
     ]
    }
   ],
   "source": [
    "import pixiedust_node"
   ]
  },
  {
   "cell_type": "code",
   "execution_count": 8,
   "metadata": {},
   "outputs": [
    {
     "name": "stdout",
     "output_type": "stream",
     "text": [
      "... ... ..... ..... ..... ..... ..... ..... ... ...\n"
     ]
    }
   ],
   "source": [
    "%%node\n",
    "global.wave = [];\n",
    "for (var i = 0; i < 1000; i++) {\n",
    "    var x = 2*Math.PI * i/ 360;\n",
    "    var obj = {\n",
    "      x: x,\n",
    "      i: i,\n",
    "      sin: Math.sin(x),\n",
    "      cos: Math.cos(x),\n",
    "      tan: Math.tan(x)\n",
    "    };\n",
    "    wave.push(obj);\n",
    "}"
   ]
  },
  {
   "cell_type": "code",
   "execution_count": 16,
   "metadata": {},
   "outputs": [
    {
     "name": "stdout",
     "output_type": "stream",
     "text": [
      "!!! Warning: store is now deprecated - Node.js global variables are automatically propagated to Python !!!\n"
     ]
    }
   ],
   "source": [
    "%%node\n",
    "store(wave, 'w');"
   ]
  },
  {
   "cell_type": "code",
   "execution_count": 21,
   "metadata": {},
   "outputs": [
    {
     "name": "stdout",
     "output_type": "stream",
     "text": [
      "cos    2000\n",
      "i      2000\n",
      "sin    2000\n",
      "tan    2000\n",
      "x      2000\n",
      "dtype: int64\n",
      "1.0\n",
      "-1.0\n",
      "26897141197967.59\n"
     ]
    }
   ],
   "source": [
    "# count of dataframe\n",
    "print(w.count())\n",
    "# maximum value of the sin wave\n",
    "print(w['sin'].max())\n",
    "# minimum value of the sin wave\n",
    "print(w['sin'].min())\n",
    "# average value of the tan wave\n",
    "print(w['tan'].mean())"
   ]
  },
  {
   "cell_type": "code",
   "execution_count": 22,
   "metadata": {},
   "outputs": [
    {
     "name": "stdout",
     "output_type": "stream",
     "text": [
      "/QOpenSys/pkgs/bin/npm install -s cloudant-quickstart\n",
      "+ cloudant-quickstart@1.25.5\n",
      "added 5 packages from 3 contributors and audited 296 packages in 6.81s\n",
      "found 0 vulnerabilities\n"
     ]
    }
   ],
   "source": [
    "npm.install('cloudant-quickstart')"
   ]
  },
  {
   "cell_type": "code",
   "execution_count": 23,
   "metadata": {},
   "outputs": [],
   "source": [
    "%%node\n",
    "// connect to Cloudant using cloudant-quickstart\n",
    "var cloudantqs = require('cloudant-quickstart');\n",
    "var cities = cloudantqs('https://reader.cloudant.com/cities');"
   ]
  },
  {
   "cell_type": "code",
   "execution_count": 24,
   "metadata": {},
   "outputs": [
    {
     "name": "stdout",
     "output_type": "stream",
     "text": [
      "{\"_id\": \"2636749\", \"name\": \"Stowmarket\", \"latitude\": 52.18893, \"longitude\": 0.99774, \"country\": \"GB\", \"population\": 15394, \"timezone\": \"Europe/London\"}\n"
     ]
    }
   ],
   "source": [
    "%%node\n",
    "cities.get('2636749').then(print);"
   ]
  },
  {
   "cell_type": "code",
   "execution_count": 26,
   "metadata": {
    "pixiedust": {
     "displayParams": {
      "basemap": "outdoors-v9",
      "chartsize": "100",
      "coloropacity": "82",
      "colorrampname": "Orange to Purple",
      "handlerId": "mapView",
      "keyFields": "latitude,longitude",
      "kind": "choropleth",
      "legend": "true",
      "mapboxtoken": "pk.eyJ1IjoibWFwYm94IiwiYSI6ImNpejY4M29iazA2Z2gycXA4N2pmbDZmangifQ.-g_vE53SD2WrJ6tFX7QHmA",
      "rendererId": "mapbox",
      "rowCount": "100",
      "title": "Map",
      "valueFields": "population"
     }
    }
   },
   "outputs": [
    {
     "data": {
      "text/html": [
       "<style type=\"text/css\">.pd_warning{display:none;}</style><div class=\"pd_warning\"><em>Hey, there's something awesome here! To see it, open this notebook outside GitHub, in a viewer like Jupyter</em></div>\n",
       "        <div class=\"pd_save is-viewer-good\" style=\"padding-right:10px;text-align: center;line-height:initial !important;font-size: xx-large;font-weight: 500;color: coral;\">\n",
       "            Map\n",
       "        </div>\n",
       "    <div id=\"chartFigure2fe40220\" class=\"pd_save is-viewer-good\" style=\"overflow-x:auto\">\n",
       "            <script>\n",
       "  window.iframeLoaded = window.iframeLoaded || function(iframe) {\n",
       "    try {\n",
       "      iframe.contentWindow.pdMessageListeners = [];\n",
       "      iframe.contentWindow[\"addPDMessageListener\"] = function(listener){\n",
       "        iframe.contentWindow.pdMessageListeners.push(listener);\n",
       "      }\n",
       "      iframe.contentWindow.addEventListener(\"message\", function(event){\n",
       "        iframe.contentWindow.pdMessageListeners.forEach(function(listener){\n",
       "          listener(event);\n",
       "        });\n",
       "      }, false);\n",
       "      iframe.contentWindow.ready = true;\n",
       "      iframe.contentWindow[\"triggerPDEvent\"] = function(eventInfo) {\n",
       "        $(document).trigger('pd_event', eventInfo);\n",
       "      }\n",
       "    } catch (e) {\n",
       "      console.log(e)\n",
       "    }\n",
       "  }\n",
       "\n",
       "  \n",
       "</script>\n",
       "<iframe id=\"mapframe2fe40220\" style=\"width:800.0px;height:500px\" srcdoc=\"<!DOCTYPE html>\n",
       "<html lang=&quot;en&quot;>\n",
       "<head>\n",
       "    <meta charset=&quot;UTF-8&quot;>\n",
       "    <meta name=&quot;viewport&quot; content=&quot;width=device-width, initial-scale=1&quot;>\n",
       "    <title>Pixiedust Mapbox map</title>\n",
       "    <script src=&quot;https://api.tiles.mapbox.com/mapbox-gl-js/v0.32.1/mapbox-gl.js&quot;></script>\n",
       "    <link href=&quot;https://api.tiles.mapbox.com/mapbox-gl-js/v0.32.1/mapbox-gl.css&quot; rel=&quot;stylesheet&quot; />\n",
       "    <style>\n",
       "    .mapboxgl-popup-content h3 { \n",
       "        margin: 2px 0 2px 0;\n",
       "        font-style: italic;\n",
       "    }\n",
       "    .mapboxgl-popup {\n",
       "        max-width: 200px;\n",
       "    }\n",
       "    #map canvas {\n",
       "        cursor: crosshair;\n",
       "    }\n",
       "    .legend {\n",
       "        background-color: rgba(255,255,255, 0.75);\n",
       "        border-radius: 3px;\n",
       "        position: absolute;\n",
       "        left: 14px;\n",
       "        top: 14px;\n",
       "        box-shadow: 0 1px 2px rgba(0,0,0,0.10);\n",
       "        font-size: 12px;\n",
       "        line-height: 18px;\n",
       "        padding: 10px;\n",
       "        z-index: 1;\n",
       "    }\n",
       "    .legend h4 {\n",
       "        margin: 0 0 10px;\n",
       "    }\n",
       "    .legend div span {\n",
       "        border-radius: 50%;\n",
       "        display: inline-block;\n",
       "        height: 10px;\n",
       "        margin-right: 5px;\n",
       "        width: 10px;\n",
       "    }\n",
       "    body { \n",
       "        background-color:#333; \n",
       "        margin:0px !important; \n",
       "        overflow: hidden;\n",
       "        font-family: &quot;Helvetica Neue&quot;, Arial, Helvetica, sans-serif;\n",
       "    }\n",
       "    </style>\n",
       "</head>\n",
       "<body>\n",
       "<div id=&quot;map-2fe40220-8032a818&quot; style=&quot;width:calc(800.0px - 4px);height:calc(500px - 4px)&quot; />\n",
       "\n",
       "\n",
       "<div id=&quot;maplegend&quot; class=&quot;legend&quot;>\n",
       "    <h4>population</h4>\n",
       "    \n",
       "    <div><span style=&quot;background-color: #e66101&quot;></span>15394.0</div>\n",
       "    \n",
       "    <div><span style=&quot;background-color: #83d211&quot;></span>29556.0</div>\n",
       "    \n",
       "    <div><span style=&quot;background-color: #20be5e&quot;></span>43718.0</div>\n",
       "    \n",
       "    <div><span style=&quot;background-color: #2e7cab&quot;></span>6168955.5</div>\n",
       "    \n",
       "    <div><span style=&quot;background-color: #5e3c99&quot;></span>12294193.0</div>\n",
       "    \n",
       "</div>\n",
       "\n",
       "<script>\n",
       "    !function(e){if(&quot;object&quot;==typeof exports&amp;&amp;&quot;undefined&quot;!=typeof module)module.exports=e();else if(&quot;function&quot;==typeof define&amp;&amp;define.amd)define([],e);else{var n;&quot;undefined&quot;!=typeof window?n=window:&quot;undefined&quot;!=typeof global?n=global:&quot;undefined&quot;!=typeof self&amp;&amp;(n=self),n.geojsonExtent=e()}}(function(){return function e(t,n,r){function s(o,u){if(!n[o]){if(!t[o]){var a=&quot;function&quot;==typeof require&amp;&amp;require;if(!u&amp;&amp;a)return a(o,!0);if(i)return i(o,!0);var f=new Error(&quot;Cannot find module &quot;+o+&quot;&quot;);throw f.code=&quot;MODULE_NOT_FOUND&quot;,f}var l=n[o]={exports:{}};t[o][0].call(l.exports,function(e){var n=t[o][1][e];return s(n?n:e)},l,l.exports,e,t,n,r)}return n[o].exports}for(var i=&quot;function&quot;==typeof require&amp;&amp;require,o=0;o<r.length;o++)s(r[o]);return s}({1:[function(require,module){function getExtent(_){for(var ext=extent(),coords=geojsonCoords(_),i=0;i<coords.length;i++)ext.include(coords[i]);return ext}var geojsonCoords=require(&quot;geojson-coords&quot;),traverse=require(&quot;traverse&quot;),extent=require(&quot;extent&quot;),geojsonTypes=[&quot;Point&quot;,&quot;MultiPoint&quot;,&quot;LineString&quot;,&quot;MultiLineString&quot;,&quot;Polygon&quot;,&quot;MultiPolygon&quot;,&quot;Feature&quot;,&quot;FeatureCollection&quot;,&quot;GeometryCollection&quot;];module.exports=function(_){return getExtent(_).bbox()},module.exports.polygon=function(_){return getExtent(_).polygon()},module.exports.bboxify=function(_){return traverse(_).map(function(value){value&amp;&amp;-1!==typeof geojsonTypes.indexOf(value.type)&amp;&amp;(console.log(value.type,value),value.bbox=getExtent(value).bbox(),this.update(value))})}},{extent:2,&quot;geojson-coords&quot;:4,traverse:7}],2:[function(require,module){function Extent(){return this instanceof Extent?(this._bbox=[1/0,1/0,-(1/0),-(1/0)],void(this._valid=!1)):new Extent}module.exports=Extent,Extent.prototype.include=function(ll){return this._valid=!0,this._bbox[0]=Math.min(this._bbox[0],ll[0]),this._bbox[1]=Math.min(this._bbox[1],ll[1]),this._bbox[2]=Math.max(this._bbox[2],ll[0]),this._bbox[3]=Math.max(this._bbox[3],ll[1]),this},Extent.prototype.union=function(other){return this._valid=!0,this._bbox[0]=Math.min(this._bbox[0],other[0]),this._bbox[1]=Math.min(this._bbox[1],other[1]),this._bbox[2]=Math.max(this._bbox[2],other[2]),this._bbox[3]=Math.max(this._bbox[3],other[3]),this},Extent.prototype.bbox=function(){return this._valid?this._bbox:null},Extent.prototype.contains=function(ll){return this._valid?this._bbox[0]<=ll[0]&amp;&amp;this._bbox[1]<=ll[1]&amp;&amp;this._bbox[2]>=ll[0]&amp;&amp;this._bbox[3]>=ll[1]:null},Extent.prototype.polygon=function(){return this._valid?{type:&quot;Polygon&quot;,coordinates:[[[this._bbox[0],this._bbox[1]],[this._bbox[2],this._bbox[1]],[this._bbox[2],this._bbox[3]],[this._bbox[0],this._bbox[3]],[this._bbox[0],this._bbox[1]]]]}:null}},{}],3:[function(require,module){module.exports=function(list){function _flatten(list){return Array.isArray(list)&amp;&amp;list.length&amp;&amp;&quot;number&quot;==typeof list[0]?[list]:list.reduce(function(acc,item){return Array.isArray(item)&amp;&amp;Array.isArray(item[0])?acc.concat(_flatten(item)):(acc.push(item),acc)},[])}return _flatten(list)}},{}],4:[function(require,module){var geojsonNormalize=require(&quot;geojson-normalize&quot;),geojsonFlatten=require(&quot;geojson-flatten&quot;),flatten=require(&quot;./flatten&quot;);module.exports=function(_){if(!_)return[];var normalized=geojsonFlatten(geojsonNormalize(_)),coordinates=[];return normalized.features.forEach(function(feature){feature.geometry&amp;&amp;(coordinates=coordinates.concat(flatten(feature.geometry.coordinates)))}),coordinates}},{&quot;./flatten&quot;:3,&quot;geojson-flatten&quot;:5,&quot;geojson-normalize&quot;:6}],5:[function(require,module){function flatten(gj){switch(gj&amp;&amp;gj.type||null){case&quot;FeatureCollection&quot;:return gj.features=gj.features.reduce(function(mem,feature){return mem.concat(flatten(feature))},[]),gj;case&quot;Feature&quot;:return flatten(gj.geometry).map(function(geom){return{type:&quot;Feature&quot;,properties:JSON.parse(JSON.stringify(gj.properties)),geometry:geom}});case&quot;MultiPoint&quot;:return gj.coordinates.map(function(_){return{type:&quot;Point&quot;,coordinates:_}});case&quot;MultiPolygon&quot;:return gj.coordinates.map(function(_){return{type:&quot;Polygon&quot;,coordinates:_}});case&quot;MultiLineString&quot;:return gj.coordinates.map(function(_){return{type:&quot;LineString&quot;,coordinates:_}});case&quot;GeometryCollection&quot;:return gj.geometries;case&quot;Point&quot;:case&quot;Polygon&quot;:case&quot;LineString&quot;:return[gj];default:return gj}}module.exports=flatten},{}],6:[function(require,module){function normalize(gj){if(!gj||!gj.type)return null;var type=types[gj.type];return type?&quot;geometry&quot;===type?{type:&quot;FeatureCollection&quot;,features:[{type:&quot;Feature&quot;,properties:{},geometry:gj}]}:&quot;feature&quot;===type?{type:&quot;FeatureCollection&quot;,features:[gj]}:&quot;featurecollection&quot;===type?gj:void 0:null}module.exports=normalize;var types={Point:&quot;geometry&quot;,MultiPoint:&quot;geometry&quot;,LineString:&quot;geometry&quot;,MultiLineString:&quot;geometry&quot;,Polygon:&quot;geometry&quot;,MultiPolygon:&quot;geometry&quot;,GeometryCollection:&quot;geometry&quot;,Feature:&quot;feature&quot;,FeatureCollection:&quot;featurecollection&quot;}},{}],7:[function(require,module){function Traverse(obj){this.value=obj}function walk(root,cb,immutable){var path=[],parents=[],alive=!0;return function walker(node_){function updateState(){if(&quot;object&quot;==typeof state.node&amp;&amp;null!==state.node){state.keys&amp;&amp;state.node_===state.node||(state.keys=objectKeys(state.node)),state.isLeaf=0==state.keys.length;for(var i=0;i<parents.length;i++)if(parents[i].node_===node_){state.circular=parents[i];break}}else state.isLeaf=!0,state.keys=null;state.notLeaf=!state.isLeaf,state.notRoot=!state.isRoot}var node=immutable?copy(node_):node_,modifiers={},keepGoing=!0,state={node:node,node_:node_,path:[].concat(path),parent:parents[parents.length-1],parents:parents,key:path.slice(-1)[0],isRoot:0===path.length,level:path.length,circular:null,update:function(x,stopHere){state.isRoot||(state.parent.node[state.key]=x),state.node=x,stopHere&amp;&amp;(keepGoing=!1)},&quot;delete&quot;:function(stopHere){delete state.parent.node[state.key],stopHere&amp;&amp;(keepGoing=!1)},remove:function(stopHere){isArray(state.parent.node)?state.parent.node.splice(state.key,1):delete state.parent.node[state.key],stopHere&amp;&amp;(keepGoing=!1)},keys:null,before:function(f){modifiers.before=f},after:function(f){modifiers.after=f},pre:function(f){modifiers.pre=f},post:function(f){modifiers.post=f},stop:function(){alive=!1},block:function(){keepGoing=!1}};if(!alive)return state;updateState();var ret=cb.call(state,state.node);return void 0!==ret&amp;&amp;state.update&amp;&amp;state.update(ret),modifiers.before&amp;&amp;modifiers.before.call(state,state.node),keepGoing?(&quot;object&quot;!=typeof state.node||null===state.node||state.circular||(parents.push(state),updateState(),forEach(state.keys,function(key,i){path.push(key),modifiers.pre&amp;&amp;modifiers.pre.call(state,state.node[key],key);var child=walker(state.node[key]);immutable&amp;&amp;hasOwnProperty.call(state.node,key)&amp;&amp;(state.node[key]=child.node),child.isLast=i==state.keys.length-1,child.isFirst=0==i,modifiers.post&amp;&amp;modifiers.post.call(state,child),path.pop()}),parents.pop()),modifiers.after&amp;&amp;modifiers.after.call(state,state.node),state):state}(root).node}function copy(src){if(&quot;object&quot;==typeof src&amp;&amp;null!==src){var dst;if(isArray(src))dst=[];else if(isDate(src))dst=new Date(src.getTime?src.getTime():src);else if(isRegExp(src))dst=new RegExp(src);else if(isError(src))dst={message:src.message};else if(isBoolean(src))dst=new Boolean(src);else if(isNumber(src))dst=new Number(src);else if(isString(src))dst=new String(src);else if(Object.create&amp;&amp;Object.getPrototypeOf)dst=Object.create(Object.getPrototypeOf(src));else if(src.constructor===Object)dst={};else{var proto=src.constructor&amp;&amp;src.constructor.prototype||src.__proto__||{},T=function(){};T.prototype=proto,dst=new T}return forEach(objectKeys(src),function(key){dst[key]=src[key]}),dst}return src}function toS(obj){return Object.prototype.toString.call(obj)}function isDate(obj){return&quot;[object Date]&quot;===toS(obj)}function isRegExp(obj){return&quot;[object RegExp]&quot;===toS(obj)}function isError(obj){return&quot;[object Error]&quot;===toS(obj)}function isBoolean(obj){return&quot;[object Boolean]&quot;===toS(obj)}function isNumber(obj){return&quot;[object Number]&quot;===toS(obj)}function isString(obj){return&quot;[object String]&quot;===toS(obj)}var traverse=module.exports=function(obj){return new Traverse(obj)};Traverse.prototype.get=function(ps){for(var node=this.value,i=0;i<ps.length;i++){var key=ps[i];if(!node||!hasOwnProperty.call(node,key)){node=void 0;break}node=node[key]}return node},Traverse.prototype.has=function(ps){for(var node=this.value,i=0;i<ps.length;i++){var key=ps[i];if(!node||!hasOwnProperty.call(node,key))return!1;node=node[key]}return!0},Traverse.prototype.set=function(ps,value){for(var node=this.value,i=0;i<ps.length-1;i++){var key=ps[i];hasOwnProperty.call(node,key)||(node[key]={}),node=node[key]}return node[ps[i]]=value,value},Traverse.prototype.map=function(cb){return walk(this.value,cb,!0)},Traverse.prototype.forEach=function(cb){return this.value=walk(this.value,cb,!1),this.value},Traverse.prototype.reduce=function(cb,init){var skip=1===arguments.length,acc=skip?this.value:init;return this.forEach(function(x){this.isRoot&amp;&amp;skip||(acc=cb.call(this,acc,x))}),acc},Traverse.prototype.paths=function(){var acc=[];return this.forEach(function(){acc.push(this.path)}),acc},Traverse.prototype.nodes=function(){var acc=[];return this.forEach(function(){acc.push(this.node)}),acc},Traverse.prototype.clone=function(){var parents=[],nodes=[];return function clone(src){for(var i=0;i<parents.length;i++)if(parents[i]===src)return nodes[i];if(&quot;object&quot;==typeof src&amp;&amp;null!==src){var dst=copy(src);return parents.push(src),nodes.push(dst),forEach(objectKeys(src),function(key){dst[key]=clone(src[key])}),parents.pop(),nodes.pop(),dst}return src}(this.value)};var objectKeys=Object.keys||function(obj){var res=[];for(var key in obj)res.push(key);return res},isArray=Array.isArray||function(xs){return&quot;[object Array]&quot;===Object.prototype.toString.call(xs)},forEach=function(xs,fn){if(xs.forEach)return xs.forEach(fn);for(var i=0;i<xs.length;i++)fn(xs[i],i,xs)};forEach(objectKeys(Traverse.prototype),function(key){traverse[key]=function(obj){var args=[].slice.call(arguments,1),t=new Traverse(obj);return t[key].apply(t,args)}});var hasOwnProperty=Object.hasOwnProperty||function(obj,key){return key in obj}},{}]},{},[1])(1)});    \n",
       "    var comment = &quot;&quot;;\n",
       "    mapboxgl.accessToken=&quot;pk.eyJ1IjoibWFwYm94IiwiYSI6ImNpejY4M29iazA2Z2gycXA4N2pmbDZmangifQ.-g_vE53SD2WrJ6tFX7QHmA&quot;;\n",
       "    var mapdata = null;\n",
       "    var map = new mapboxgl.Map({\n",
       "        container: &quot;map-2fe40220-8032a818&quot;,\n",
       "        style: &quot;mapbox://styles/mapbox/outdoors-v9&quot;\n",
       "    });\n",
       "\n",
       "    setTimeout(function(){\n",
       "        if (window.addPDMessageListener){\n",
       "            window.addPDMessageListener(function(event){\n",
       "                streamingLayer = map.getSource(&quot;streamingLayer&quot;);\n",
       "                if (streamingLayer){\n",
       "                    streamingLayer.setData(event.data.data);\n",
       "                }else{\n",
       "                    map.addLayer({\n",
       "                        &quot;id&quot;: &quot;streamingLayer&quot;,\n",
       "                        &quot;maptype&quot;: &quot;mapbox&quot;,\n",
       "                        &quot;type&quot;: event.data.type,\n",
       "                        &quot;source&quot;: { type: &quot;geojson&quot;, data: event.data.data },\n",
       "                        &quot;layout&quot;: event.data.layout || {},\n",
       "                        &quot;paint&quot;: event.data.paint || {}\n",
       "                    });\n",
       "                    if (event.data.fitbounds &amp;&amp; event.data.data.features){\n",
       "                        function updateBounds(res, ar){\n",
       "                            if (ar[0].length >=2 &amp;&amp; ar[1].length >= 2 ){\n",
       "                                if (!res){\n",
       "                                    return ar;\n",
       "                                }\n",
       "                                return [ \n",
       "                                    [Math.min( ar[0][0]-0.1, res[0][0]), Math.min( ar[0][1]-0.1, res[0][1])],\n",
       "                                    [Math.max( ar[1][0]+0.1, res[1][0]), Math.max( ar[1][1]+0.1, res[1][1])]\n",
       "                                ]\n",
       "                            }\n",
       "                            return null;\n",
       "                        }\n",
       "                        var bbox = event.data.data.features.reduce(function(res, value){\n",
       "                            var coord = value.geometry.coordinates;\n",
       "                            if (coord.length >= 2 ){\n",
       "                                res = updateBounds( res, [coord[0], coord[1]]);\n",
       "                            }\n",
       "                            return res;\n",
       "                        }, null);\n",
       "                        if (bbox){\n",
       "                            map.fitBounds(bbox);\n",
       "                        }\n",
       "                    }\n",
       "                }\n",
       "            });\n",
       "        };\n",
       "    },100);\n",
       "\n",
       "    var popup = new mapboxgl.Popup({closeButton: false,closeOnClick: true});\n",
       "\n",
       "    function divineGeometryType(mapdata) {\n",
       "        comment = &quot;check type of first geometry. Later expand to check all geometries and make a good decision&quot;;\n",
       "        return mapdata.features[0].geometry.type;\n",
       "    }\n",
       "    \n",
       "    map.on(&quot;mousemove&quot;, function (e) {\n",
       "        var fs = map.queryRenderedFeatures(e.point,{layers:[&quot;pxlayer&quot;]});\n",
       "        if (!fs || !fs.length) {popup.remove();return;};\n",
       "        popuphtml = &quot;&quot;;\n",
       "        var hr = false;\n",
       "        fs.forEach(function(f){\n",
       "            if (hr){ \n",
       "                popuphtml += &quot;<hr>\\n&quot;;\n",
       "            }\n",
       "            hr=true;\n",
       "            popuphtml += &quot;<h3>&quot;+f.layer.id.toUpperCase()+&quot;</h3>\\n&quot;;\n",
       "            var keylength = Object.keys(f.properties).length;\n",
       "            for (var key in f.properties) {\n",
       "                popuphtml += &quot;<b>&quot;+key+&quot;: </b> &quot;+f.properties[key]+&quot;<br/>\\n&quot;;\n",
       "            }\n",
       "        });\n",
       "        popup.setLngLat(e.lngLat).setHTML(popuphtml).addTo(map);\n",
       "    });\n",
       "    \n",
       "    map.on(&quot;click&quot;, function (e) {\n",
       "        var fs = map.queryRenderedFeatures(e.point, { layers: [&quot;pxlayer&quot;] });\n",
       "        if (fs &amp;&amp; fs.length) {\n",
       "            var f = fs[0];\n",
       "            console.log(&quot;clicked&quot;, f);\n",
       "            var keylength = Object.keys(f.properties).length;\n",
       "            var payload = {type:&quot;select&quot;, targetDivId: &quot;&quot; };\n",
       "\n",
       "            for (var key in f.properties) {\n",
       "                payload[key] = f.properties[key];\n",
       "            }\n",
       "\n",
       "            if (window.triggerPDEvent) {\n",
       "                window.triggerPDEvent(payload);\n",
       "            }\n",
       "        }\n",
       "    });\n",
       "        \n",
       "    map.on(&quot;load&quot;, function() {\n",
       "        \n",
       "        mapdata={&quot;type&quot;: &quot;FeatureCollection&quot;, &quot;features&quot;: [{&quot;type&quot;: &quot;Feature&quot;, &quot;properties&quot;: {&quot;population&quot;: 12294193.0}, &quot;geometry&quot;: {&quot;type&quot;: &quot;Point&quot;, &quot;coordinates&quot;: [-99.12766, 19.42847]}}, {&quot;type&quot;: &quot;Feature&quot;, &quot;properties&quot;: {&quot;population&quot;: 43718.0}, &quot;geometry&quot;: {&quot;type&quot;: &quot;Point&quot;, &quot;coordinates&quot;: [-76.72774, 39.9626]}}, {&quot;type&quot;: &quot;Feature&quot;, &quot;properties&quot;: {&quot;population&quot;: 15394.0}, &quot;geometry&quot;: {&quot;type&quot;: &quot;Point&quot;, &quot;coordinates&quot;: [0.99774, 52.18893]}}]};\n",
       "        geomtype = divineGeometryType(mapdata);\n",
       "        \n",
       "            var ds = {\n",
       "                &quot;type&quot;:&quot;geojson&quot;,\n",
       "                &quot;data&quot;:mapdata\n",
       "            };\n",
       "            var clusterme = false;\n",
       "            if (geomtype.substr(-5,5) == &quot;Point&quot;) {\n",
       "                \n",
       "            }\n",
       "            map.addSource(&quot;pxdatasource&quot;, ds);\n",
       "\n",
       "            var maplayertype = &quot;circle&quot;;\n",
       "            if (geomtype.substr(-7,7) == &quot;Polygon&quot;) \n",
       "                maplayertype = &quot;fill&quot;;\n",
       "            else if (geomtype.substr(-10,10) == &quot;LineString&quot;)\n",
       "                maplayertype = &quot;line&quot;;\n",
       "            map.addLayer({\n",
       "                &quot;id&quot;:&quot;pxlayer&quot;,\n",
       "                &quot;type&quot;:maplayertype, \n",
       "                &quot;source&quot;: &quot;pxdatasource&quot;, \n",
       "                &quot;paint&quot;: {&quot;circle-radius&quot;: 12, &quot;circle-color&quot;: {&quot;property&quot;: &quot;population&quot;, &quot;stops&quot;: [[15394.0, &quot;#e66101&quot;], [29556.0, &quot;#83d211&quot;], [43718.0, &quot;#20be5e&quot;], [6168955.5, &quot;#2e7cab&quot;], [12294193.0, &quot;#5e3c99&quot;]]}, &quot;circle-opacity&quot;: 0.82}\n",
       "            });\n",
       "            \n",
       "            if (clusterme &amp;&amp; geomtype.substr(-5,5) == &quot;Point&quot;) {\n",
       "                map.addLayer({\n",
       "                    &quot;id&quot;: &quot;cluster-count-labels&quot;, \n",
       "                    &quot;type&quot;: &quot;symbol&quot;, \n",
       "                    &quot;source&quot;: &quot;pxdatasource&quot;, \n",
       "                    &quot;paint&quot;: {\n",
       "                        &quot;text-color&quot;: &quot;#FFF&quot;\n",
       "                    },\n",
       "                    &quot;layout&quot;: {\n",
       "                        &quot;text-field&quot;: &quot;{point_count}&quot;, \n",
       "                        &quot;text-font&quot;: [\n",
       "                            &quot;DIN Offc Pro Medium&quot;, \n",
       "                            &quot;Arial Unicode MS Bold&quot;\n",
       "                        ],\n",
       "                        &quot;text-size&quot;: 12\n",
       "                    }\n",
       "                });\n",
       "            }\n",
       "        \n",
       "        \n",
       "\n",
       "        comment = &quot;Add user layers&quot;;\n",
       "        var layers = [];\n",
       "        \n",
       "        layers.sort(function(a,b) {\n",
       "            return a[1] - b[1];\n",
       "        });\n",
       "        for (layersi=layers.length-1; layersi>=0; layersi--) {\n",
       "            map.addLayer(layers[layersi][0]);\n",
       "            comment = &quot;User layer legend&quot;;\n",
       "            \n",
       "                var t = document.createElement(&quot;h4&quot;);\n",
       "                t.appendChild(document.createTextNode(layers[layersi][0].id));\n",
       "                document.getElementById(&quot;maplegend&quot;).appendChild(t);\n",
       "            \n",
       "        }\n",
       "        \n",
       "        map.fitBounds([[-99.12766, 19.42847], [0.99774, 52.18893]]);\n",
       "        \n",
       "        \n",
       "    });\n",
       "</script>\n",
       "</body>\n",
       "</html>\" onload=\"iframeLoaded(this)\"></iframe>\n",
       "<script>\n",
       "  var iframe = document.getElementById('mapframe2fe40220');\n",
       "  iframe.setAttribute('srcdoc', atob('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'));\n",
       "</script>\n",
       "\n",
       "        </div>"
      ],
      "text/plain": [
       "<IPython.core.display.HTML object>"
      ]
     },
     "metadata": {},
     "output_type": "display_data"
    }
   ],
   "source": [
    "%%node\n",
    "cities.get(['4562407','2636749','3530597']).then(display);"
   ]
  }
 ],
 "metadata": {
  "kernelspec": {
   "display_name": "Python 3",
   "language": "python",
   "name": "python3"
  },
  "language_info": {
   "codemirror_mode": {
    "name": "ipython",
    "version": 3
   },
   "file_extension": ".py",
   "mimetype": "text/x-python",
   "name": "python",
   "nbconvert_exporter": "python",
   "pygments_lexer": "ipython3",
   "version": "3.6.9"
  }
 },
 "nbformat": 4,
 "nbformat_minor": 2
}
